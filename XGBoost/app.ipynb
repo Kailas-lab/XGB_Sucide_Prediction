{
 "cells": [
  {
   "cell_type": "code",
   "execution_count": 8,
   "metadata": {},
   "outputs": [
    {
     "name": "stdout",
     "output_type": "stream",
     "text": [
      "Model loaded successfully!\n"
     ]
    }
   ],
   "source": [
    "import joblib\n",
    "\n",
    "# Load the saved model\n",
    "model = joblib.load(\"suicide_prediction_xgboost.pkl\")\n",
    "print(\"Model loaded successfully!\")\n"
   ]
  },
  {
   "cell_type": "code",
   "execution_count": null,
   "metadata": {},
   "outputs": [
    {
     "name": "stdout",
     "output_type": "stream",
     "text": [
      "Suicide\n"
     ]
    }
   ],
   "source": [
    "import pandas as pd\n",
    "import re\n",
    "from sklearn.feature_extraction.text import TfidfVectorizer\n",
    "\n",
    "# Load the trained model\n",
    "model = joblib.load(\"suicide_prediction_xgboost.pkl\")\n",
    "\n",
    "# Load the saved TF-IDF vectorizer (important for text processing)\n",
    "vectorizer = joblib.load(\"tfidf_vectorizer.pkl\")\n",
    "\n",
    "# Predict function\n",
    "def predict_statement(statement):\n",
    "    clean_statement = statement\n",
    "    vectorized_statement = vectorizer.transform([clean_statement])\n",
    "    prediction = model.predict(vectorized_statement)\n",
    "    return \"Suicide\" if prediction[0] == 1 else \"No Suicide\"\n",
    "\n",
    "# Example Prediction\n",
    "user_input = input()\n",
    "print(predict_statement(user_input))  # Output: \"Suicide\" or \"No Suicide\"\n"
   ]
  },
  {
   "cell_type": "code",
   "execution_count": null,
   "metadata": {},
   "outputs": [],
   "source": []
  }
 ],
 "metadata": {
  "kernelspec": {
   "display_name": "Python 3",
   "language": "python",
   "name": "python3"
  },
  "language_info": {
   "codemirror_mode": {
    "name": "ipython",
    "version": 3
   },
   "file_extension": ".py",
   "mimetype": "text/x-python",
   "name": "python",
   "nbconvert_exporter": "python",
   "pygments_lexer": "ipython3",
   "version": "3.10.0"
  }
 },
 "nbformat": 4,
 "nbformat_minor": 2
}
